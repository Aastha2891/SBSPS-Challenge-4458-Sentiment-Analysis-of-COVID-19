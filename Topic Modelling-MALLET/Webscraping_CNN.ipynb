{
  "nbformat": 4,
  "nbformat_minor": 0,
  "metadata": {
    "kernelspec": {
      "display_name": "Python 3",
      "language": "python",
      "name": "python3"
    },
    "language_info": {
      "codemirror_mode": {
        "name": "ipython",
        "version": 3
      },
      "file_extension": ".py",
      "mimetype": "text/x-python",
      "name": "python",
      "nbconvert_exporter": "python",
      "pygments_lexer": "ipython3",
      "version": "3.7.6"
    },
    "toc": {
      "base_numbering": 1,
      "nav_menu": {},
      "number_sections": true,
      "sideBar": true,
      "skip_h1_title": false,
      "title_cell": "Table of Contents",
      "title_sidebar": "Contents",
      "toc_cell": false,
      "toc_position": {},
      "toc_section_display": true,
      "toc_window_display": false
    },
    "colab": {
      "name": "Webscraping - CNN.ipynb",
      "provenance": []
    }
  },
  "cells": [
    {
      "cell_type": "code",
      "metadata": {
        "id": "9ptiR_WpiRxE",
        "colab_type": "code",
        "colab": {}
      },
      "source": [
        "import numpy as np\n",
        "import mysql.connector\n",
        "from sqlalchemy import create_engine\n",
        "import pymysql\n",
        "import json\n",
        "import time\n",
        "from datetime import date\n",
        "from dateutil.parser import parse\n",
        "from datetime import datetime\n",
        "import pandas as pd\n",
        "import requests\n",
        "from bs4 import BeautifulSoup \n",
        "from tqdm import notebook\n",
        "from selenium import webdriver\n",
        "from selenium.webdriver.common.keys import Keys\n",
        "from selenium.common.exceptions import NoSuchElementException\n",
        "import datetime\n",
        "import re\n",
        "from datetime import timedelta\n",
        "import glob\n",
        "import os\n",
        "import math\n",
        "from random import randint\n",
        "from tqdm import notebook"
      ],
      "execution_count": null,
      "outputs": []
    },
    {
      "cell_type": "code",
      "metadata": {
        "id": "ez2wUnp2iRxI",
        "colab_type": "code",
        "colab": {}
      },
      "source": [
        "# keyword = coronavirus\n",
        "url = 'https://www.cnn.com/search?size=100&q=corona%20virus'\n"
      ],
      "execution_count": null,
      "outputs": []
    },
    {
      "cell_type": "code",
      "metadata": {
        "id": "fF2RSn09iRxK",
        "colab_type": "code",
        "colab": {}
      },
      "source": [
        "driver = webdriver.Chrome()\n",
        "driver.get(url)\n"
      ],
      "execution_count": null,
      "outputs": []
    },
    {
      "cell_type": "code",
      "metadata": {
        "id": "iUuHHz1IiRxM",
        "colab_type": "code",
        "colab": {}
      },
      "source": [
        "headline_tag = driver.find_elements_by_class_name('cnn-search__result-headline')"
      ],
      "execution_count": null,
      "outputs": []
    },
    {
      "cell_type": "code",
      "metadata": {
        "id": "-tKZPNyhiRxO",
        "colab_type": "code",
        "colab": {}
      },
      "source": [
        "xpth = \"//*[@class = 'cnn-search__result-headline']/a\"\n",
        "links = [*map(lambda x: x.get_attribute('href'), driver.find_elements_by_xpath(xpth))]\n",
        "headlines = [*map(lambda x: x.text, headline_tag)]"
      ],
      "execution_count": null,
      "outputs": []
    },
    {
      "cell_type": "code",
      "metadata": {
        "id": "RsNViGmLiRxQ",
        "colab_type": "code",
        "colab": {}
      },
      "source": [
        "time_tag = driver.find_elements_by_class_name('cnn-search__result-publish-date')\n",
        "times = [*map(lambda x: x.text, time_tag)]\n"
      ],
      "execution_count": null,
      "outputs": []
    },
    {
      "cell_type": "code",
      "metadata": {
        "id": "NuKJx_LliRxS",
        "colab_type": "code",
        "colab": {}
      },
      "source": [
        "result_body_tag = driver.find_elements_by_css_selector(r'div.cnn-search__result-body')\n",
        "result_body = [*map(lambda x: x.text, result_body_tag)]"
      ],
      "execution_count": null,
      "outputs": []
    },
    {
      "cell_type": "code",
      "metadata": {
        "id": "EQ2yJ45OiRxU",
        "colab_type": "code",
        "colab": {}
      },
      "source": [
        "search_cv = pd.DataFrame(\n",
        "    {'headline': headlines,\n",
        "     'published_date': time,\n",
        "     'link': link,\n",
        "     'content': result_body\n",
        "    })"
      ],
      "execution_count": null,
      "outputs": []
    },
    {
      "cell_type": "code",
      "metadata": {
        "id": "4-T19cVRiRxW",
        "colab_type": "code",
        "colab": {}
      },
      "source": [
        "search_cv.to_excel('news_cnn.xlsx')"
      ],
      "execution_count": null,
      "outputs": []
    }
  ]
}